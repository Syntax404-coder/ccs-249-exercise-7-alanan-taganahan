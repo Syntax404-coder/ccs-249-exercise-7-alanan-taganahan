{
 "cells": [
  {
   "cell_type": "code",
   "execution_count": 16,
   "id": "d10285b2",
   "metadata": {},
   "outputs": [],
   "source": [
    "import torch\n",
    "import torch.nn as nn\n",
    "import torch.optim as optim\n",
    "from torch.utils.data import Dataset, DataLoader\n",
    "from collections import Counter\n",
    "import numpy as np\n",
    "import math\n",
    "import random"
   ]
  },
  {
   "cell_type": "code",
   "execution_count": 17,
   "id": "f5b5c452",
   "metadata": {},
   "outputs": [],
   "source": [
    "# Tokenize & build vocabulary\n",
    "class TextDataset(Dataset):\n",
    "    def __init__(self, sentences, vocab=None, seq_len=5):\n",
    "        self.seq_len = seq_len\n",
    "        tokens = [word for s in sentences for word in s]\n",
    "        if vocab is None:\n",
    "            self.vocab = {w: i+2 for i, (w, _) in enumerate(Counter(tokens).most_common())}\n",
    "            self.vocab['<PAD>'] = 0\n",
    "            self.vocab['<UNK>'] = 1\n",
    "        else:\n",
    "            self.vocab = vocab\n",
    "        self.inv_vocab = {i: w for w, i in self.vocab.items()}\n",
    "\n",
    "        self.data = []\n",
    "        for s in sentences:\n",
    "            indexed = [self.vocab.get(w, 1) for w in s]\n",
    "            for i in range(len(indexed) - seq_len):\n",
    "                self.data.append((indexed[i:i+seq_len], indexed[i+seq_len]))\n",
    "\n",
    "    def __len__(self):\n",
    "        return len(self.data)\n",
    "\n",
    "    def __getitem__(self, idx):\n",
    "        x, y = self.data[idx]\n",
    "        return torch.tensor(x), torch.tensor(y)"
   ]
  },
  {
   "cell_type": "code",
   "execution_count": 18,
   "id": "dee9ccb4",
   "metadata": {},
   "outputs": [],
   "source": [
    "# Define the LSTM model\n",
    "class LSTMModel(nn.Module):\n",
    "    def __init__(self, vocab_size, embed_dim=64, hidden_dim=128):\n",
    "        super().__init__()\n",
    "        self.embedding = nn.Embedding(vocab_size, embed_dim, padding_idx=0)\n",
    "        self.lstm = nn.LSTM(embed_dim, hidden_dim, batch_first=True)\n",
    "        self.fc = nn.Linear(hidden_dim, vocab_size)\n",
    "\n",
    "    def forward(self, x):\n",
    "        emb = self.embedding(x)\n",
    "        out, _ = self.lstm(emb)\n",
    "        out = out[:, -1, :]  # Take output of last LSTM step\n",
    "        return self.fc(out)"
   ]
  },
  {
   "cell_type": "code",
   "execution_count": 19,
   "id": "bd2b75a7",
   "metadata": {},
   "outputs": [],
   "source": [
    "# Train function\n",
    "def train_model(model, dataloader, criterion, optimizer, epochs=5):\n",
    "    for epoch in range(epochs):\n",
    "        total_loss = 0\n",
    "        for x, y in dataloader:\n",
    "            x, y = x.to(device), y.to(device)\n",
    "            optimizer.zero_grad()\n",
    "            out = model(x)\n",
    "            loss = criterion(out, y)\n",
    "            loss.backward()\n",
    "            optimizer.step()\n",
    "            total_loss += loss.item()\n",
    "        print(f\"Epoch {epoch+1}, Loss: {total_loss:.4f}\")"
   ]
  },
  {
   "cell_type": "code",
   "execution_count": 20,
   "id": "81a1583d",
   "metadata": {},
   "outputs": [],
   "source": [
    "# Evaluate accuracy\n",
    "def evaluate_detailed_lstm(model, dataset, k=3):\n",
    "    model.eval()\n",
    "    total = 0\n",
    "    correct = 0\n",
    "    top_k_correct = 0\n",
    "    log_probs = []\n",
    "\n",
    "    with torch.no_grad():\n",
    "        for x, y in DataLoader(dataset, batch_size=64):\n",
    "            x, y = x.to(device), y.to(device)\n",
    "            outputs = model(x)  # shape: [batch, vocab_size]\n",
    "            probs = torch.softmax(outputs, dim=1)\n",
    "\n",
    "            # Top-1 accuracy\n",
    "            preds = probs.argmax(dim=1)\n",
    "            correct += (preds == y).sum().item()\n",
    "\n",
    "            # Top-K accuracy\n",
    "            top_k_preds = probs.topk(k, dim=1).indices  # shape: [batch, k]\n",
    "            top_k_correct += sum([y[i].item() in top_k_preds[i] for i in range(len(y))])\n",
    "\n",
    "            # Perplexity (negative log-likelihood)\n",
    "            probs_for_targets = probs[range(len(y)), y] + 1e-10  # avoid log(0)\n",
    "            log_probs.extend(torch.log(probs_for_targets).tolist())\n",
    "\n",
    "            total += y.size(0)\n",
    "\n",
    "    accuracy = correct / total if total > 0 else 0\n",
    "    top_k_accuracy = top_k_correct / total if total > 0 else 0\n",
    "    perplexity = math.exp(-sum(log_probs) / total) if total > 0 else float(\"inf\")\n",
    "\n",
    "    return accuracy, top_k_accuracy, perplexity\n"
   ]
  },
  {
   "cell_type": "code",
   "execution_count": 21,
   "id": "cec95323",
   "metadata": {},
   "outputs": [],
   "source": [
    "def load_conll2003_file(filepath):\n",
    "    sentences = []\n",
    "    with open(filepath, 'r', encoding='utf-8') as file:\n",
    "        words = []\n",
    "        for line in file:\n",
    "            line = line.strip()\n",
    "            if not line:\n",
    "                if words:\n",
    "                    sentences.append(words)\n",
    "                    words = []\n",
    "            else:\n",
    "                parts = line.split()\n",
    "                if len(parts) >= 1:\n",
    "                    words.append(parts[0])\n",
    "        if words:\n",
    "            sentences.append(words)\n",
    "    return sentences"
   ]
  },
  {
   "cell_type": "code",
   "execution_count": 22,
   "id": "5759cdca",
   "metadata": {},
   "outputs": [],
   "source": [
    "# Main runner\n",
    "def run_lstm_text_prediction():\n",
    "    # Load data\n",
    "    sentences = load_conll2003_file(\"conll2003/eng.train\")\n",
    "    split = int(0.8 * len(sentences))\n",
    "    train_data = sentences[:split]\n",
    "    test_data = sentences[split:]\n",
    "\n",
    "    # Dataset\n",
    "    train_dataset = TextDataset(train_data)\n",
    "    test_dataset = TextDataset(test_data, vocab=train_dataset.vocab)\n",
    "\n",
    "    # Model\n",
    "    global device\n",
    "    device = torch.device(\"cuda\" if torch.cuda.is_available() else \"cpu\")\n",
    "    model = LSTMModel(vocab_size=len(train_dataset.vocab)).to(device)\n",
    "    optimizer = optim.Adam(model.parameters(), lr=0.001)\n",
    "    criterion = nn.CrossEntropyLoss()\n",
    "\n",
    "    # Train\n",
    "    train_loader = DataLoader(train_dataset, batch_size=64, shuffle=True)\n",
    "    train_model(model, train_loader, criterion, optimizer, epochs=5)\n",
    "\n",
    "    # Evaluate\n",
    "    acc, top_k_acc, ppl = evaluate_detailed_lstm(model, test_dataset, k=3)\n",
    "    print(f\"\\nLSTM Evaluation Metrics:\")\n",
    "    print(f\"Accuracy         : {acc:.2%}\")\n",
    "    print(f\"Top-3 Accuracy   : {top_k_acc:.2%}\")\n",
    "    print(f\"Perplexity       : {ppl:.2f}\")"
   ]
  },
  {
   "cell_type": "code",
   "execution_count": 23,
   "id": "b8b933d4",
   "metadata": {},
   "outputs": [
    {
     "name": "stdout",
     "output_type": "stream",
     "text": [
      "Epoch 1, Loss: 11700.6387\n",
      "Epoch 2, Loss: 9994.0346\n",
      "Epoch 3, Loss: 8903.7285\n",
      "Epoch 4, Loss: 7959.2099\n",
      "Epoch 5, Loss: 7146.5678\n",
      "\n",
      "LSTM Evaluation Metrics:\n",
      "Accuracy         : 15.22%\n",
      "Top-3 Accuracy   : 25.31%\n",
      "Perplexity       : 1258.34\n"
     ]
    }
   ],
   "source": [
    "if __name__ == \"__main__\":\n",
    "    run_lstm_text_prediction()"
   ]
  }
 ],
 "metadata": {
  "kernelspec": {
   "display_name": "Python 3",
   "language": "python",
   "name": "python3"
  },
  "language_info": {
   "codemirror_mode": {
    "name": "ipython",
    "version": 3
   },
   "file_extension": ".py",
   "mimetype": "text/x-python",
   "name": "python",
   "nbconvert_exporter": "python",
   "pygments_lexer": "ipython3",
   "version": "3.11.9"
  }
 },
 "nbformat": 4,
 "nbformat_minor": 5
}
