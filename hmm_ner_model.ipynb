{
 "cells": [
  {
   "cell_type": "code",
   "execution_count": null,
   "id": "d25a39a7",
   "metadata": {
    "lines_to_next_cell": 1
   },
   "outputs": [],
   "source": [
    "# Hidden Markov Model\n",
    "## Imports\n",
    "import math\n",
    "from collections import defaultdict"
   ]
  },
  {
   "cell_type": "code",
   "execution_count": null,
   "id": "7e39244a",
   "metadata": {
    "lines_to_next_cell": 1
   },
   "outputs": [],
   "source": [
    "# Hidden Markov Model for NER\n",
    "class HMM_NER:\n",
    "    def __init__(self):\n",
    "        self.transition_probs = defaultdict(lambda: defaultdict(int))  # tag -> next_tag\n",
    "        self.emission_probs = defaultdict(lambda: defaultdict(int))    # tag -> word\n",
    "        self.tag_counts = defaultdict(int)\n",
    "        self.unique_tags = set()\n",
    "\n",
    "    def train(self, sentences, tags):\n",
    "        for words, ner_tags in zip(sentences, tags):\n",
    "            prev_tag = \"<s>\"\n",
    "            self.tag_counts[prev_tag] += 1\n",
    "            for word, tag in zip(words, ner_tags):\n",
    "                self.transition_probs[prev_tag][tag] += 1\n",
    "                self.emission_probs[tag][word] += 1\n",
    "                self.tag_counts[tag] += 1\n",
    "                self.unique_tags.add(tag)\n",
    "                prev_tag = tag\n",
    "            self.transition_probs[prev_tag][\"</s>\"] += 1\n",
    "\n",
    "    def predict(self, sentence):\n",
    "        V = [{}]\n",
    "        path = {}\n",
    "\n",
    "        for tag in self.unique_tags:\n",
    "            V[0][tag] = math.log(self.transition_probs[\"<s>\"].get(tag, 1) / self.tag_counts[\"<s>\"]) + \\\n",
    "                        math.log(self.emission_probs[tag].get(sentence[0], 1) / self.tag_counts[tag])\n",
    "            path[tag] = [tag]\n",
    "\n",
    "        for t in range(1, len(sentence)):\n",
    "            V.append({})\n",
    "            new_path = {}\n",
    "\n",
    "            for curr_tag in self.unique_tags:\n",
    "                (prob, best_tag) = max(\n",
    "                    (V[t - 1][prev_tag] +\n",
    "                     math.log(self.transition_probs[prev_tag].get(curr_tag, 1) / self.tag_counts[prev_tag]) +\n",
    "                     math.log(self.emission_probs[curr_tag].get(sentence[t], 1) / self.tag_counts[curr_tag]),\n",
    "                     prev_tag)\n",
    "                    for prev_tag in self.unique_tags\n",
    "                )\n",
    "                V[t][curr_tag] = prob\n",
    "                new_path[curr_tag] = path[best_tag] + [curr_tag]\n",
    "\n",
    "            path = new_path\n",
    "\n",
    "        n = len(sentence) - 1\n",
    "        (prob, final_tag) = max((V[n][tag], tag) for tag in self.unique_tags)\n",
    "        return path[final_tag]"
   ]
  },
  {
   "cell_type": "code",
   "execution_count": null,
   "id": "4f723a8f",
   "metadata": {
    "lines_to_next_cell": 1
   },
   "outputs": [],
   "source": [
    "## Data Loading and Preprocessing\n",
    "def load_conll2003_file(filepath):\n",
    "    sentences = []\n",
    "    tags = []\n",
    "    with open(filepath, 'r', encoding='utf-8') as file:\n",
    "        words, ner_tags = [], []\n",
    "        for line in file:\n",
    "            line = line.strip()\n",
    "            if not line:\n",
    "                if words and ner_tags:\n",
    "                    sentences.append(words)\n",
    "                    tags.append(ner_tags)\n",
    "                    words, ner_tags = [], []\n",
    "            else:\n",
    "                parts = line.split()\n",
    "                if len(parts) >= 4:\n",
    "                    words.append(parts[0])\n",
    "                    ner_tags.append(parts[-1])\n",
    "        if words and ner_tags:\n",
    "            sentences.append(words)\n",
    "            tags.append(ner_tags)\n",
    "    return sentences, tags"
   ]
  },
  {
   "cell_type": "code",
   "execution_count": null,
   "id": "23e47e72",
   "metadata": {
    "lines_to_next_cell": 1
   },
   "outputs": [],
   "source": [
    "## Evaluation\n",
    "def evaluate(model, test_sentences, test_tags):\n",
    "    total = 0\n",
    "    correct = 0\n",
    "    for sentence, true_tags in zip(test_sentences, test_tags):\n",
    "        predicted_tags = model.predict(sentence)\n",
    "        for pred, true in zip(predicted_tags, true_tags):\n",
    "            if pred == true:\n",
    "                correct += 1\n",
    "            total += 1\n",
    "    return correct / total if total > 0 else 0"
   ]
  },
  {
   "cell_type": "code",
   "execution_count": null,
   "id": "0d12e47a",
   "metadata": {
    "lines_to_next_cell": 1
   },
   "outputs": [],
   "source": [
    "## Main Execution\n",
    "def main():\n",
    "    # Load training data\n",
    "    sentences, tags = load_conll2003_file(\"conll2003/eng.train\")\n",
    "\n",
    "    # Split 80/20\n",
    "    split_idx = int(0.8 * len(sentences))\n",
    "    train_sentences = sentences[:split_idx]\n",
    "    train_tags = tags[:split_idx]\n",
    "    test_sentences = sentences[split_idx:]\n",
    "    test_tags = tags[split_idx:]\n",
    "\n",
    "    # Train and evaluate\n",
    "    model = HMM_NER()\n",
    "    model.train(train_sentences, train_tags)\n",
    "\n",
    "    accuracy = evaluate(model, test_sentences, test_tags)\n",
    "    print(f\"Model Accuracy: {accuracy:.2%}\")\n",
    "\n",
    "    # Predict on sample sentence\n",
    "    test_sentence = [\"Manila\", \"is\", \"the\", \"capital\", \"of\", \"the\", \"Philippines\"]\n",
    "    print(\"\\nFriend's Test Sentence:\", test_sentence)\n",
    "    print(\"Predicted NER Tags:\")\n",
    "    print(model.predict(test_sentence))"
   ]
  },
  {
   "cell_type": "code",
   "execution_count": null,
   "id": "24701284",
   "metadata": {},
   "outputs": [],
   "source": [
    "if __name__ == \"__main__\":\n",
    "    main()"
   ]
  }
 ],
 "metadata": {
  "jupytext": {
   "cell_metadata_filter": "-all",
   "main_language": "python",
   "notebook_metadata_filter": "-all"
  }
 },
 "nbformat": 4,
 "nbformat_minor": 5
}
