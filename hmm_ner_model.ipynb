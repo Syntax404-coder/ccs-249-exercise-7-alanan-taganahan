{
 "cells": [
  {
   "cell_type": "markdown",
   "id": "a13c4024",
   "metadata": {},
   "source": [
    "# Hidden Markov Model for Named Entity Recognition\n",
    "This notebook implements a Hidden Markov Model (HMM) for Named Entity Recognition (NER). It covers training, prediction using the Viterbi algorithm, and evaluation of model accuracy."
   ]
  },
  {
   "cell_type": "markdown",
   "id": "f63156ce",
   "metadata": {},
   "source": [
    "## Imports"
   ]
  },
  {
   "cell_type": "code",
   "execution_count": null,
   "id": "5b63362e",
   "metadata": {},
   "outputs": [],
   "source": [
    "import re\n",
    "import ast\n",
    "import math\n",
    "from collections import defaultdict\n",
    "import pandas as pd"
   ]
  },
  {
   "cell_type": "markdown",
   "id": "aaa88498",
   "metadata": {},
   "source": [
    "## Hidden Markov Model Class\n",
    "This class encapsulates the entire functionality of the HMM."
   ]
  },
  {
   "cell_type": "code",
   "execution_count": null,
   "id": "271de0ad",
   "metadata": {},
   "outputs": [],
   "source": [
    "\n",
    "class HiddenMarkovModel:\n",
    "    def __init__(self, smoothing=1e-6):\n",
    "        \"\"\"Initialize HMM with required components.\"\"\"\n",
    "        self.tag_counts = defaultdict(int)\n",
    "        self.word_tag_map = {}\n",
    "        self.states = []\n",
    "        self.trans_probs = defaultdict(lambda: defaultdict(lambda: smoothing))\n",
    "        self.emit_probs = defaultdict(lambda: defaultdict(lambda: smoothing))\n",
    "        self.start_probs = defaultdict(lambda: smoothing)\n",
    "        self.smoothing = smoothing\n",
    "\n",
    "    def train(self, sentences, tagged_sentences):\n",
    "        \"\"\"Train HMM by counting frequencies and computing probabilities.\"\"\"\n",
    "        self._count_tags_and_words(sentences, tagged_sentences)\n",
    "        self._compute_transition_probs(tagged_sentences)\n",
    "        self._compute_emission_probs(sentences, tagged_sentences)\n",
    "        self._compute_start_probs(tagged_sentences)\n",
    "        self.states = list(self.tag_counts.keys())\n",
    "\n",
    "    def viterbi(self, sentence):\n",
    "        \"\"\"Predict tag sequence using the Viterbi algorithm.\"\"\"\n",
    "        if not sentence:\n",
    "            return []\n",
    "        V = [{}]\n",
    "        path = {}\n",
    "        first_word = sentence[0]\n",
    "        for state in self.states:\n",
    "            V[0][state] = math.log(self.start_probs[state]) + math.log(self.emit_probs[state][first_word])\n",
    "            path[state] = [state]\n",
    "        for t in range(1, len(sentence)):\n",
    "            V.append({})\n",
    "            new_path = {}\n",
    "            for curr_state in self.states:\n",
    "                max_prob = -math.inf\n",
    "                best_prev = None\n",
    "                for prev_state in self.states:\n",
    "                    prob = V[t-1][prev_state] + math.log(self.trans_probs[prev_state][curr_state]) + math.log(self.emit_probs[curr_state][sentence[t]])\n",
    "                    if prob > max_prob:\n",
    "                        max_prob = prob\n",
    "                        best_prev = prev_state\n",
    "                V[t][curr_state] = max_prob\n",
    "                new_path[curr_state] = path[best_prev] + [curr_state]\n",
    "            path = new_path\n",
    "        last_col = V[-1]\n",
    "        best_final = max(last_col.keys(), key=lambda s: last_col[s])\n",
    "        return path[best_final]\n",
    "\n",
    "    def _count_tags_and_words(self, sentences, tagged_sentences):\n",
    "        \"\"\"Count tag frequencies and build word-tag map.\"\"\"\n",
    "        word_tag_counts = defaultdict(lambda: defaultdict(int))\n",
    "        for words, tags in zip(sentences, tagged_sentences):\n",
    "            for word, tag in zip(words, tags):\n",
    "                self.tag_counts[tag] += 1\n",
    "                word_tag_counts[word][tag] += 1\n",
    "        for word in word_tag_counts:\n",
    "            self.word_tag_map[word] = max(word_tag_counts[word].items(), key=lambda x: x[1])[0]\n",
    "\n",
    "    def _compute_transition_probs(self, tagged_sentences):\n",
    "        \"\"\"Compute transition probabilities: P(tag_t | tag_t-1).\"\"\"\n",
    "        transitions = defaultdict(lambda: defaultdict(int))\n",
    "        for tags in tagged_sentences:\n",
    "            for i in range(len(tags)-1):\n",
    "                curr, next_tag = tags[i], tags[i+1]\n",
    "                transitions[curr][next_tag] += 1\n",
    "        for curr in transitions:\n",
    "            total = sum(transitions[curr].values())\n",
    "            for next_tag in transitions[curr]:\n",
    "                self.trans_probs[curr][next_tag] = transitions[curr][next_tag] / total\n",
    "\n",
    "    def _compute_emission_probs(self, sentences, tagged_sentences):\n",
    "        \"\"\"Compute emission probabilities: P(word | tag).\"\"\"\n",
    "        emissions = defaultdict(lambda: defaultdict(int))\n",
    "        for words, tags in zip(sentences, tagged_sentences):\n",
    "            for word, tag in zip(words, tags):\n",
    "                emissions[tag][word] += 1\n",
    "        for tag in emissions:\n",
    "            total = self.tag_counts[tag]\n",
    "            for word in emissions[tag]:\n",
    "                self.emit_probs[tag][word] = emissions[tag][word] / total\n",
    "\n",
    "    def _compute_start_probs(self, tagged_sentences):\n",
    "        \"\"\"Compute start tag probabilities.\"\"\"\n",
    "        start_counts = defaultdict(int)\n",
    "        total = len(tagged_sentences)\n",
    "        for tags in tagged_sentences:\n",
    "            if tags:\n",
    "                start_counts[tags[0]] += 1\n",
    "        for tag in start_counts:\n",
    "            self.start_probs[tag] = start_counts[tag] / total\n"
   ]
  },
  {
   "cell_type": "markdown",
   "id": "4670ccbc",
   "metadata": {},
   "source": [
    "## Data Loading and Preprocessing\n",
    "This function loads and parses a CSV-formatted NER dataset."
   ]
  },
  {
   "cell_type": "code",
   "execution_count": null,
   "id": "1495dba3",
   "metadata": {},
   "outputs": [],
   "source": [
    "\n",
    "def load_data(filepath):\n",
    "    \"\"\"Load and preprocess NER dataset.\"\"\"\n",
    "    df = pd.read_csv(filepath)\n",
    "    sentences = df['Sentence'].apply(str.split).tolist()\n",
    "    tagged_sentences = df['Tag'].apply(ast.literal_eval).tolist()\n",
    "    return sentences, tagged_sentences\n"
   ]
  },
  {
   "cell_type": "markdown",
   "id": "69d0d098",
   "metadata": {},
   "source": [
    "## Evaluation\n",
    "This function computes the model's tagging accuracy."
   ]
  },
  {
   "cell_type": "code",
   "execution_count": null,
   "id": "d5c6cfba",
   "metadata": {},
   "outputs": [],
   "source": [
    "\n",
    "def evaluate(model, test_sentences, test_tags):\n",
    "    \"\"\"Calculate model accuracy.\"\"\"\n",
    "    correct = 0\n",
    "    total = 0\n",
    "    for words, true_tags in zip(test_sentences, test_tags):\n",
    "        pred_tags = model.viterbi(words)\n",
    "        correct += sum(1 for t1, t2 in zip(true_tags, pred_tags) if t1 == t2)\n",
    "        total += len(true_tags)\n",
    "    return correct / total\n"
   ]
  },
  {
   "cell_type": "markdown",
   "id": "1d8188b6",
   "metadata": {},
   "source": [
    "## Main Execution\n",
    "Train the HMM, evaluate its performance, and test a sample sentence."
   ]
  },
  {
   "cell_type": "code",
   "execution_count": null,
   "id": "0883443a",
   "metadata": {},
   "outputs": [],
   "source": [
    "\n",
    "def main():\n",
    "    sentences, tagged_sentences = load_data(\"ner.csv\")\n",
    "    split_idx = int(0.8 * len(sentences))\n",
    "    train_sent = sentences[:split_idx]\n",
    "    train_tags = tagged_sentences[:split_idx]\n",
    "    test_sent = sentences[split_idx:]\n",
    "    test_tags = tagged_sentences[split_idx:]\n",
    "\n",
    "    hmm = HiddenMarkovModel()\n",
    "    hmm.train(train_sent, train_tags)\n",
    "\n",
    "    accuracy = evaluate(hmm, test_sent, test_tags)\n",
    "    print(f\"Model Accuracy: {accuracy:.2%}\")\n",
    "\n",
    "    test_sentence = [\"Manila\", \"is\", \"the\", \"capital\", \"of\", \"the\", \"Philippines\"]\n",
    "    print(\"\\nTest Sentence:\", test_sentence)\n",
    "    print(\"Predicted Tags:\", hmm.viterbi(test_sentence))\n",
    "\n",
    "main()\n"
   ]
  }
 ],
 "metadata": {},
 "nbformat": 4,
 "nbformat_minor": 5
}