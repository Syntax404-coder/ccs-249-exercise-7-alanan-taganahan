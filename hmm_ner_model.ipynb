{
 "cells": [
  {
   "cell_type": "markdown",
   "id": "a13c4024",
   "metadata": {},
   "source": [
    "# Hidden Markov Model for Named Entity Recognition"
   ]
  },
  {
   "cell_type": "markdown",
   "id": "f63156ce",
   "metadata": {},
   "source": [
    "## Imports"
   ]
  },
  {
   "cell_type": "code",
   "execution_count": 31,
   "id": "5b63362e",
   "metadata": {},
   "outputs": [],
   "source": [
    "import re\n",
    "import ast\n",
    "import math\n",
    "from collections import defaultdict\n",
    "import pandas as pd"
   ]
  },
  {
   "cell_type": "markdown",
   "id": "aaa88498",
   "metadata": {},
   "source": [
    "## Hidden Markov Model Class\n",
    "This class encapsulates the entire functionality of the HMM."
   ]
  },
  {
   "cell_type": "code",
   "execution_count": 32,
   "id": "271de0ad",
   "metadata": {},
   "outputs": [],
   "source": [
    "\n",
    "class HiddenMarkovModel:\n",
    "    def __init__(self, smoothing=1e-6):\n",
    "        \"\"\"Initialize HMM with required components.\"\"\"\n",
    "        self.tag_counts = defaultdict(int)\n",
    "        self.word_tag_map = {}\n",
    "        self.states = []\n",
    "        self.trans_probs = defaultdict(lambda: defaultdict(lambda: smoothing))\n",
    "        self.emit_probs = defaultdict(lambda: defaultdict(lambda: smoothing))\n",
    "        self.start_probs = defaultdict(lambda: smoothing)\n",
    "        self.smoothing = smoothing\n",
    "\n",
    "    def train(self, sentences, tagged_sentences):\n",
    "        \"\"\"Train HMM by counting frequencies and computing probabilities.\"\"\"\n",
    "        self._count_tags_and_words(sentences, tagged_sentences)\n",
    "        self._compute_transition_probs(tagged_sentences)\n",
    "        self._compute_emission_probs(sentences, tagged_sentences)\n",
    "        self._compute_start_probs(tagged_sentences)\n",
    "        self.states = list(self.tag_counts.keys())\n",
    "\n",
    "    def viterbi(self, sentence):\n",
    "        \"\"\"Predict tag sequence using the Viterbi algorithm.\"\"\"\n",
    "        if not sentence:\n",
    "            return []\n",
    "        V = [{}]\n",
    "        path = {}\n",
    "        first_word = sentence[0]\n",
    "        for state in self.states:\n",
    "            V[0][state] = math.log(self.start_probs[state]) + math.log(self.emit_probs[state][first_word])\n",
    "            path[state] = [state]\n",
    "        for t in range(1, len(sentence)):\n",
    "            V.append({})\n",
    "            new_path = {}\n",
    "            for curr_state in self.states:\n",
    "                max_prob = -math.inf\n",
    "                best_prev = None\n",
    "                for prev_state in self.states:\n",
    "                    prob = V[t-1][prev_state] + math.log(self.trans_probs[prev_state][curr_state]) + math.log(self.emit_probs[curr_state][sentence[t]])\n",
    "                    if prob > max_prob:\n",
    "                        max_prob = prob\n",
    "                        best_prev = prev_state\n",
    "                V[t][curr_state] = max_prob\n",
    "                new_path[curr_state] = path[best_prev] + [curr_state]\n",
    "            path = new_path\n",
    "        last_col = V[-1]\n",
    "        best_final = max(last_col.keys(), key=lambda s: last_col[s])\n",
    "        return path[best_final]\n",
    "\n",
    "    def _count_tags_and_words(self, sentences, tagged_sentences):\n",
    "        \"\"\"Count tag frequencies and build word-tag map.\"\"\"\n",
    "        word_tag_counts = defaultdict(lambda: defaultdict(int))\n",
    "        for words, tags in zip(sentences, tagged_sentences):\n",
    "            for word, tag in zip(words, tags):\n",
    "                self.tag_counts[tag] += 1\n",
    "                word_tag_counts[word][tag] += 1\n",
    "        for word in word_tag_counts:\n",
    "            self.word_tag_map[word] = max(word_tag_counts[word].items(), key=lambda x: x[1])[0]\n",
    "\n",
    "    def _compute_transition_probs(self, tagged_sentences):\n",
    "        \"\"\"Compute transition probabilities: P(tag_t | tag_t-1).\"\"\"\n",
    "        transitions = defaultdict(lambda: defaultdict(int))\n",
    "        for tags in tagged_sentences:\n",
    "            for i in range(len(tags)-1):\n",
    "                curr, next_tag = tags[i], tags[i+1]\n",
    "                transitions[curr][next_tag] += 1\n",
    "        for curr in transitions:\n",
    "            total = sum(transitions[curr].values())\n",
    "            for next_tag in transitions[curr]:\n",
    "                self.trans_probs[curr][next_tag] = transitions[curr][next_tag] / total\n",
    "\n",
    "    def _compute_emission_probs(self, sentences, tagged_sentences):\n",
    "        \"\"\"Compute emission probabilities: P(word | tag).\"\"\"\n",
    "        emissions = defaultdict(lambda: defaultdict(int))\n",
    "        for words, tags in zip(sentences, tagged_sentences):\n",
    "            for word, tag in zip(words, tags):\n",
    "                emissions[tag][word] += 1\n",
    "        for tag in emissions:\n",
    "            total = self.tag_counts[tag]\n",
    "            for word in emissions[tag]:\n",
    "                self.emit_probs[tag][word] = emissions[tag][word] / total\n",
    "\n",
    "    def _compute_start_probs(self, tagged_sentences):\n",
    "        \"\"\"Compute start tag probabilities.\"\"\"\n",
    "        start_counts = defaultdict(int)\n",
    "        total = len(tagged_sentences)\n",
    "        for tags in tagged_sentences:\n",
    "            if tags:\n",
    "                start_counts[tags[0]] += 1\n",
    "        for tag in start_counts:\n",
    "            self.start_probs[tag] = start_counts[tag] / total\n"
   ]
  },
  {
   "cell_type": "markdown",
   "id": "4670ccbc",
   "metadata": {},
   "source": [
    "## Data Loading and Preprocessing\n",
    "This function loads and parses a CSV-formatted NER dataset."
   ]
  },
  {
   "cell_type": "code",
   "execution_count": 33,
   "id": "1495dba3",
   "metadata": {},
   "outputs": [],
   "source": [
    "\n",
    "def load_data(filepath):\n",
    "    \"\"\"Load and preprocess NER dataset.\"\"\"\n",
    "    df = pd.read_csv(\"ner.csv\", encoding='utf-8')\n",
    "    sentences = df['Sentence'].apply(str.split).tolist()\n",
    "    tagged_sentences = df['Tag'].apply(ast.literal_eval).tolist()\n",
    "    return sentences, tagged_sentences\n"
   ]
  },
  {
   "cell_type": "markdown",
   "id": "69d0d098",
   "metadata": {},
   "source": [
    "## Evaluation\n",
    "This function computes the model's tagging accuracy."
   ]
  },
  {
   "cell_type": "code",
   "execution_count": 34,
   "id": "d5c6cfba",
   "metadata": {},
   "outputs": [],
   "source": [
    "\n",
    "def evaluate(model, test_sentences, test_tags):\n",
    "    \"\"\"Calculate model accuracy.\"\"\"\n",
    "    correct = 0\n",
    "    total = 0\n",
    "    for words, true_tags in zip(test_sentences, test_tags):\n",
    "        pred_tags = model.viterbi(words)\n",
    "        correct += sum(1 for t1, t2 in zip(true_tags, pred_tags) if t1 == t2)\n",
    "        total += len(true_tags)\n",
    "    return correct / total\n"
   ]
  },
  {
   "cell_type": "markdown",
   "id": "1d8188b6",
   "metadata": {},
   "source": [
    "## Main Execution\n",
    "Train the HMM, evaluate its performance, and test a sample sentence."
   ]
  },
  {
   "cell_type": "code",
   "execution_count": 35,
   "id": "0883443a",
   "metadata": {},
   "outputs": [],
   "source": [
    "\n",
    "def main():\n",
    "    sentences, tagged_sentences = load_data(\"ner.csv\")\n",
    "    split_idx = int(0.8 * len(sentences))\n",
    "    train_sent = sentences[:split_idx]\n",
    "    train_tags = tagged_sentences[:split_idx]\n",
    "    test_sent = sentences[split_idx:]\n",
    "    test_tags = tagged_sentences[split_idx:]\n",
    "\n",
    "    hmm = HiddenMarkovModel()\n",
    "    hmm.train(train_sent, train_tags)\n",
    "\n",
    "    accuracy = evaluate(hmm, test_sent, test_tags)\n",
    "    print(f\"Model Accuracy: {accuracy:.2%}\")\n",
    "\n",
    "    test_sentence = [\"Manila\", \"is\", \"the\", \"capital\", \"of\", \"the\", \"Philippines\"]\n",
    "    print(\"\\nTest Sentence:\", test_sentence)\n",
    "    print(\"Predicted Tags:\", hmm.viterbi(test_sentence))\n",
    "\n"
   ]
  },
  {
   "cell_type": "code",
   "execution_count": 36,
   "id": "2833af1f",
   "metadata": {},
   "outputs": [
    {
     "ename": "UnicodeDecodeError",
     "evalue": "'utf-8' codec can't decode byte 0x85 in position 0: invalid start byte",
     "output_type": "error",
     "traceback": [
      "\u001b[1;31m---------------------------------------------------------------------------\u001b[0m",
      "\u001b[1;31mUnicodeDecodeError\u001b[0m                        Traceback (most recent call last)",
      "File \u001b[1;32mparsers.pyx:1120\u001b[0m, in \u001b[0;36mpandas._libs.parsers.TextReader._convert_tokens\u001b[1;34m()\u001b[0m\n",
      "File \u001b[1;32mparsers.pyx:1272\u001b[0m, in \u001b[0;36mpandas._libs.parsers.TextReader._convert_with_dtype\u001b[1;34m()\u001b[0m\n",
      "File \u001b[1;32mparsers.pyx:1285\u001b[0m, in \u001b[0;36mpandas._libs.parsers.TextReader._string_convert\u001b[1;34m()\u001b[0m\n",
      "File \u001b[1;32mparsers.pyx:1535\u001b[0m, in \u001b[0;36mpandas._libs.parsers._string_box_utf8\u001b[1;34m()\u001b[0m\n",
      "\u001b[1;31mUnicodeDecodeError\u001b[0m: 'utf-8' codec can't decode byte 0x85 in position 0: invalid start byte",
      "\nDuring handling of the above exception, another exception occurred:\n",
      "\u001b[1;31mUnicodeDecodeError\u001b[0m                        Traceback (most recent call last)",
      "Cell \u001b[1;32mIn[36], line 1\u001b[0m\n\u001b[1;32m----> 1\u001b[0m \u001b[43mmain\u001b[49m\u001b[43m(\u001b[49m\u001b[43m)\u001b[49m\n",
      "Cell \u001b[1;32mIn[35], line 2\u001b[0m, in \u001b[0;36mmain\u001b[1;34m()\u001b[0m\n\u001b[0;32m      1\u001b[0m \u001b[38;5;28;01mdef\u001b[39;00m \u001b[38;5;21mmain\u001b[39m():\n\u001b[1;32m----> 2\u001b[0m     sentences, tagged_sentences \u001b[38;5;241m=\u001b[39m \u001b[43mload_data\u001b[49m\u001b[43m(\u001b[49m\u001b[38;5;124;43m\"\u001b[39;49m\u001b[38;5;124;43mner.csv\u001b[39;49m\u001b[38;5;124;43m\"\u001b[39;49m\u001b[43m)\u001b[49m\n\u001b[0;32m      3\u001b[0m     split_idx \u001b[38;5;241m=\u001b[39m \u001b[38;5;28mint\u001b[39m(\u001b[38;5;241m0.8\u001b[39m \u001b[38;5;241m*\u001b[39m \u001b[38;5;28mlen\u001b[39m(sentences))\n\u001b[0;32m      4\u001b[0m     train_sent \u001b[38;5;241m=\u001b[39m sentences[:split_idx]\n",
      "Cell \u001b[1;32mIn[33], line 3\u001b[0m, in \u001b[0;36mload_data\u001b[1;34m(filepath)\u001b[0m\n\u001b[0;32m      1\u001b[0m \u001b[38;5;28;01mdef\u001b[39;00m \u001b[38;5;21mload_data\u001b[39m(filepath):\n\u001b[0;32m      2\u001b[0m \u001b[38;5;250m    \u001b[39m\u001b[38;5;124;03m\"\"\"Load and preprocess NER dataset.\"\"\"\u001b[39;00m\n\u001b[1;32m----> 3\u001b[0m     df \u001b[38;5;241m=\u001b[39m \u001b[43mpd\u001b[49m\u001b[38;5;241;43m.\u001b[39;49m\u001b[43mread_csv\u001b[49m\u001b[43m(\u001b[49m\u001b[38;5;124;43m\"\u001b[39;49m\u001b[38;5;124;43mner.csv\u001b[39;49m\u001b[38;5;124;43m\"\u001b[39;49m\u001b[43m,\u001b[49m\u001b[43m \u001b[49m\u001b[43mencoding\u001b[49m\u001b[38;5;241;43m=\u001b[39;49m\u001b[38;5;124;43m'\u001b[39;49m\u001b[38;5;124;43mutf-8\u001b[39;49m\u001b[38;5;124;43m'\u001b[39;49m\u001b[43m)\u001b[49m\n\u001b[0;32m      4\u001b[0m     sentences \u001b[38;5;241m=\u001b[39m df[\u001b[38;5;124m'\u001b[39m\u001b[38;5;124mSentence\u001b[39m\u001b[38;5;124m'\u001b[39m]\u001b[38;5;241m.\u001b[39mapply(\u001b[38;5;28mstr\u001b[39m\u001b[38;5;241m.\u001b[39msplit)\u001b[38;5;241m.\u001b[39mtolist()\n\u001b[0;32m      5\u001b[0m     tagged_sentences \u001b[38;5;241m=\u001b[39m df[\u001b[38;5;124m'\u001b[39m\u001b[38;5;124mTag\u001b[39m\u001b[38;5;124m'\u001b[39m]\u001b[38;5;241m.\u001b[39mapply(ast\u001b[38;5;241m.\u001b[39mliteral_eval)\u001b[38;5;241m.\u001b[39mtolist()\n",
      "File \u001b[1;32mc:\\Users\\n3des\\AppData\\Local\\Programs\\Python\\Python313\\Lib\\site-packages\\pandas\\io\\parsers\\readers.py:1026\u001b[0m, in \u001b[0;36mread_csv\u001b[1;34m(filepath_or_buffer, sep, delimiter, header, names, index_col, usecols, dtype, engine, converters, true_values, false_values, skipinitialspace, skiprows, skipfooter, nrows, na_values, keep_default_na, na_filter, verbose, skip_blank_lines, parse_dates, infer_datetime_format, keep_date_col, date_parser, date_format, dayfirst, cache_dates, iterator, chunksize, compression, thousands, decimal, lineterminator, quotechar, quoting, doublequote, escapechar, comment, encoding, encoding_errors, dialect, on_bad_lines, delim_whitespace, low_memory, memory_map, float_precision, storage_options, dtype_backend)\u001b[0m\n\u001b[0;32m   1013\u001b[0m kwds_defaults \u001b[38;5;241m=\u001b[39m _refine_defaults_read(\n\u001b[0;32m   1014\u001b[0m     dialect,\n\u001b[0;32m   1015\u001b[0m     delimiter,\n\u001b[1;32m   (...)\u001b[0m\n\u001b[0;32m   1022\u001b[0m     dtype_backend\u001b[38;5;241m=\u001b[39mdtype_backend,\n\u001b[0;32m   1023\u001b[0m )\n\u001b[0;32m   1024\u001b[0m kwds\u001b[38;5;241m.\u001b[39mupdate(kwds_defaults)\n\u001b[1;32m-> 1026\u001b[0m \u001b[38;5;28;01mreturn\u001b[39;00m \u001b[43m_read\u001b[49m\u001b[43m(\u001b[49m\u001b[43mfilepath_or_buffer\u001b[49m\u001b[43m,\u001b[49m\u001b[43m \u001b[49m\u001b[43mkwds\u001b[49m\u001b[43m)\u001b[49m\n",
      "File \u001b[1;32mc:\\Users\\n3des\\AppData\\Local\\Programs\\Python\\Python313\\Lib\\site-packages\\pandas\\io\\parsers\\readers.py:626\u001b[0m, in \u001b[0;36m_read\u001b[1;34m(filepath_or_buffer, kwds)\u001b[0m\n\u001b[0;32m    623\u001b[0m     \u001b[38;5;28;01mreturn\u001b[39;00m parser\n\u001b[0;32m    625\u001b[0m \u001b[38;5;28;01mwith\u001b[39;00m parser:\n\u001b[1;32m--> 626\u001b[0m     \u001b[38;5;28;01mreturn\u001b[39;00m \u001b[43mparser\u001b[49m\u001b[38;5;241;43m.\u001b[39;49m\u001b[43mread\u001b[49m\u001b[43m(\u001b[49m\u001b[43mnrows\u001b[49m\u001b[43m)\u001b[49m\n",
      "File \u001b[1;32mc:\\Users\\n3des\\AppData\\Local\\Programs\\Python\\Python313\\Lib\\site-packages\\pandas\\io\\parsers\\readers.py:1923\u001b[0m, in \u001b[0;36mTextFileReader.read\u001b[1;34m(self, nrows)\u001b[0m\n\u001b[0;32m   1916\u001b[0m nrows \u001b[38;5;241m=\u001b[39m validate_integer(\u001b[38;5;124m\"\u001b[39m\u001b[38;5;124mnrows\u001b[39m\u001b[38;5;124m\"\u001b[39m, nrows)\n\u001b[0;32m   1917\u001b[0m \u001b[38;5;28;01mtry\u001b[39;00m:\n\u001b[0;32m   1918\u001b[0m     \u001b[38;5;66;03m# error: \"ParserBase\" has no attribute \"read\"\u001b[39;00m\n\u001b[0;32m   1919\u001b[0m     (\n\u001b[0;32m   1920\u001b[0m         index,\n\u001b[0;32m   1921\u001b[0m         columns,\n\u001b[0;32m   1922\u001b[0m         col_dict,\n\u001b[1;32m-> 1923\u001b[0m     ) \u001b[38;5;241m=\u001b[39m \u001b[38;5;28;43mself\u001b[39;49m\u001b[38;5;241;43m.\u001b[39;49m\u001b[43m_engine\u001b[49m\u001b[38;5;241;43m.\u001b[39;49m\u001b[43mread\u001b[49m\u001b[43m(\u001b[49m\u001b[43m  \u001b[49m\u001b[38;5;66;43;03m# type: ignore[attr-defined]\u001b[39;49;00m\n\u001b[0;32m   1924\u001b[0m \u001b[43m        \u001b[49m\u001b[43mnrows\u001b[49m\n\u001b[0;32m   1925\u001b[0m \u001b[43m    \u001b[49m\u001b[43m)\u001b[49m\n\u001b[0;32m   1926\u001b[0m \u001b[38;5;28;01mexcept\u001b[39;00m \u001b[38;5;167;01mException\u001b[39;00m:\n\u001b[0;32m   1927\u001b[0m     \u001b[38;5;28mself\u001b[39m\u001b[38;5;241m.\u001b[39mclose()\n",
      "File \u001b[1;32mc:\\Users\\n3des\\AppData\\Local\\Programs\\Python\\Python313\\Lib\\site-packages\\pandas\\io\\parsers\\c_parser_wrapper.py:234\u001b[0m, in \u001b[0;36mCParserWrapper.read\u001b[1;34m(self, nrows)\u001b[0m\n\u001b[0;32m    232\u001b[0m \u001b[38;5;28;01mtry\u001b[39;00m:\n\u001b[0;32m    233\u001b[0m     \u001b[38;5;28;01mif\u001b[39;00m \u001b[38;5;28mself\u001b[39m\u001b[38;5;241m.\u001b[39mlow_memory:\n\u001b[1;32m--> 234\u001b[0m         chunks \u001b[38;5;241m=\u001b[39m \u001b[38;5;28;43mself\u001b[39;49m\u001b[38;5;241;43m.\u001b[39;49m\u001b[43m_reader\u001b[49m\u001b[38;5;241;43m.\u001b[39;49m\u001b[43mread_low_memory\u001b[49m\u001b[43m(\u001b[49m\u001b[43mnrows\u001b[49m\u001b[43m)\u001b[49m\n\u001b[0;32m    235\u001b[0m         \u001b[38;5;66;03m# destructive to chunks\u001b[39;00m\n\u001b[0;32m    236\u001b[0m         data \u001b[38;5;241m=\u001b[39m _concatenate_chunks(chunks)\n",
      "File \u001b[1;32mparsers.pyx:838\u001b[0m, in \u001b[0;36mpandas._libs.parsers.TextReader.read_low_memory\u001b[1;34m()\u001b[0m\n",
      "File \u001b[1;32mparsers.pyx:921\u001b[0m, in \u001b[0;36mpandas._libs.parsers.TextReader._read_rows\u001b[1;34m()\u001b[0m\n",
      "File \u001b[1;32mparsers.pyx:1066\u001b[0m, in \u001b[0;36mpandas._libs.parsers.TextReader._convert_column_data\u001b[1;34m()\u001b[0m\n",
      "File \u001b[1;32mparsers.pyx:1127\u001b[0m, in \u001b[0;36mpandas._libs.parsers.TextReader._convert_tokens\u001b[1;34m()\u001b[0m\n",
      "File \u001b[1;32mparsers.pyx:1272\u001b[0m, in \u001b[0;36mpandas._libs.parsers.TextReader._convert_with_dtype\u001b[1;34m()\u001b[0m\n",
      "File \u001b[1;32mparsers.pyx:1285\u001b[0m, in \u001b[0;36mpandas._libs.parsers.TextReader._string_convert\u001b[1;34m()\u001b[0m\n",
      "File \u001b[1;32mparsers.pyx:1535\u001b[0m, in \u001b[0;36mpandas._libs.parsers._string_box_utf8\u001b[1;34m()\u001b[0m\n",
      "\u001b[1;31mUnicodeDecodeError\u001b[0m: 'utf-8' codec can't decode byte 0x85 in position 0: invalid start byte"
     ]
    }
   ],
   "source": [
    "main()"
   ]
  }
 ],
 "metadata": {
  "kernelspec": {
   "display_name": "Python 3",
   "language": "python",
   "name": "python3"
  },
  "language_info": {
   "codemirror_mode": {
    "name": "ipython",
    "version": 3
   },
   "file_extension": ".py",
   "mimetype": "text/x-python",
   "name": "python",
   "nbconvert_exporter": "python",
   "pygments_lexer": "ipython3",
   "version": "3.13.3"
  }
 },
 "nbformat": 4,
 "nbformat_minor": 5
}
