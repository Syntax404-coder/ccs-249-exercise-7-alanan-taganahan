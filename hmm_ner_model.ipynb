{
 "cells": [
  {
   "cell_type": "markdown",
   "id": "a13c4024",
   "metadata": {},
   "source": [
    "# Hidden Markov Model for Named Entity Recognition"
   ]
  },
  {
   "cell_type": "markdown",
   "id": "f63156ce",
   "metadata": {},
   "source": [
    "## Imports"
   ]
  },
  {
   "cell_type": "code",
   "execution_count": null,
   "id": "5b63362e",
   "metadata": {},
   "outputs": [],
   "source": [
    "import re\n",
    "import math\n",
    "from collections import defaultdict"
   ]
  },
  {
   "cell_type": "markdown",
   "id": "aaa88498",
   "metadata": {},
   "source": [
    "## Hidden Markov Model Class"
   ]
  },
  {
   "cell_type": "code",
   "execution_count": null,
   "id": "271de0ad",
   "metadata": {},
   "outputs": [],
   "source": """<Insert the HiddenMarkovModel class definition here>"""
  },
  {
   "cell_type": "markdown",
   "id": "b2b3c123",
   "metadata": {},
   "source": [
    "## Data Loading Function"
   ]
  },
  {
   "cell_type": "code",
   "execution_count": null,
   "id": "c2d4f456",
   "metadata": {},
   "outputs": [],
   "source": [
    "def load_conll2003_file(filepath):\n",
    "    sentences = []\n",
    "    tags = []\n",
    "    with open(filepath, 'r', encoding='utf-8') as file:\n",
    "        words = []\n",
    "        ne_tags = []\n",
    "        for line in file:\n",
    "            line = line.strip()\n",
    "            if not line:\n",
    "                if words:\n",
    "                    sentences.append(words)\n",
    "                    tags.append(ne_tags)\n",
    "                    words = []\n",
    "                    ne_tags = []\n",
    "            else:\n",
    "                parts = line.split()\n",
    "                if len(parts) >= 2:\n",
    "                    words.append(parts[0])\n",
    "                    ne_tags.append(parts[-1])\n",
    "        if words:\n",
    "            sentences.append(words)\n",
    "            tags.append(ne_tags)\n",
    "    return sentences, tags"
   ]
  },
  {
   "cell_type": "markdown",
   "id": "d1b3a111",
   "metadata": {},
   "source": [
    "## Evaluation Function"
   ]
  },
  {
   "cell_type": "code",
   "execution_count": null,
   "id": "e222bfa4",
   "metadata": {},
   "outputs": [],
   "source": [
    "def evaluate(model, test_sentences, test_tags):\n",
    "    correct = 0\n",
    "    total = 0\n",
    "    for words, true_tags in zip(test_sentences, test_tags):\n",
    "        pred_tags = model.viterbi(words)\n",
    "        correct += sum(1 for t1, t2 in zip(true_tags, pred_tags) if t1 == t2)\n",
    "        total += len(true_tags)\n",
    "    return correct / total if total > 0 else 0"
   ]
  },
  {
   "cell_type": "markdown",
   "id": "f444cccc",
   "metadata": {},
   "source": [
    "## Main Execution"
   ]
  },
  {
   "cell_type": "code",
   "execution_count": null,
   "id": "aabc0123",
   "metadata": {},
   "outputs": [],
   "source": [
    "def main():\n",
    "    filepath = \"conll2003/eng.train\"\n",
    "    sentences, tagged_sentences = load_conll2003_file(filepath)\n",
    "    split_idx = int(0.8 * len(sentences))\n",
    "    train_sent = sentences[:split_idx]\n",
    "    train_tags = tagged_sentences[:split_idx]\n",
    "    test_sent = sentences[split_idx:]\n",
    "    test_tags = tagged_sentences[split_idx:]\n",
    \n",
    "    hmm = HiddenMarkovModel()\n",
    "    hmm.train(train_sent, train_tags)\n",
    \n",
    "    accuracy = evaluate(hmm, test_sent, test_tags)\n",
    "    print(f\"Model Accuracy: {accuracy:.2%}\")\n",
    \n",
    "    test_sentence = [\"Manila\", \"is\", \"the\", \"capital\", \"of\", \"the\", \"Philippines\"]\n",
    "    print(\"\\nTest Sentence:\", test_sentence)\n",
    "    print(\"Predicted Tags:\", hmm.viterbi(test_sentence))"
   ]
  },
  {
   "cell_type": "code",
   "execution_count": null,
   "id": "finalcall",
   "metadata": {},
   "outputs": [],
   "source": [
    "main()"
   ]
  }
 ],
 "metadata": {
  "kernelspec": {
   "display_name": "Python 3",
   "language": "python",
   "name": "python3"
  },
  "language_info": {
   "name": "python",
   "version": "3.x"
  }
 },
 "nbformat": 4,
 "nbformat_minor": 5
}
