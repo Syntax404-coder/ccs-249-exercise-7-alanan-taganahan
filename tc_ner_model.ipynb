{
 "cells": [
  {
   "cell_type": "markdown",
   "id": "a13c4024",
   "metadata": {},
   "source": [
    "# tc_ner_model"
   ]
  },
  {
   "cell_type": "markdown",
   "id": "f63156ce",
   "metadata": {},
   "source": [
    "## Imports"
   ]
  },
  {
   "cell_type": "code",
   "execution_count": 33,
   "id": "5b63362e",
   "metadata": {},
   "outputs": [],
   "source": [
    "import math\n",
    "import random\n",
    "import pandas as pd\n",
    "from collections import defaultdict\n",
    "import random\n",
    "from collections import defaultdict"
   ]
  },
  {
   "cell_type": "code",
   "execution_count": 34,
   "id": "271de0ad",
   "metadata": {},
   "outputs": [],
   "source": [
    "# Trigram Language Model\n",
    "class TrigramLanguageModel:\n",
    "    def __init__(self):\n",
    "        self.trigrams = defaultdict(lambda: defaultdict(int))\n",
    "        self.bigrams = defaultdict(int)\n",
    "\n",
    "    def train(self, sentences):\n",
    "        for sentence in sentences:\n",
    "            tokens = ['<s>', '<s>'] + sentence + ['</s>']\n",
    "            for i in range(len(tokens) - 2):\n",
    "                bigram = (tokens[i], tokens[i + 1])\n",
    "                next_word = tokens[i + 2]\n",
    "                self.trigrams[bigram][next_word] += 1\n",
    "                self.bigrams[bigram] += 1\n",
    "\n",
    "    def predict_next(self, context):\n",
    "        bigram = tuple(context)\n",
    "        if bigram in self.trigrams:\n",
    "            next_words = self.trigrams[bigram]\n",
    "            return max(next_words, key=next_words.get)\n",
    "        return \"<unk>\"\n",
    "\n",
    "    def generate_sentence(self):\n",
    "        result = ['<s>', '<s>']\n",
    "        while True:\n",
    "            next_word = self.predict_next(result[-2:])\n",
    "            if next_word == '</s>' or len(result) > 20:\n",
    "                break\n",
    "            result.append(next_word)\n",
    "        return result[2:]"
   ]
  },
  {
   "cell_type": "markdown",
   "id": "4670ccbc",
   "metadata": {},
   "source": [
    "## Data Loading and Preprocessing\n",
    "This function loads and parses a CSV-formatted NER dataset."
   ]
  },
  {
   "cell_type": "code",
   "execution_count": 35,
   "id": "1495dba3",
   "metadata": {},
   "outputs": [],
   "source": [
    "# Load CoNLL2003 data from local file\n",
    "def load_conll2003_file(filepath):\n",
    "    sentences = []\n",
    "    with open(filepath, 'r', encoding='utf-8') as file:\n",
    "        words = []\n",
    "        for line in file:\n",
    "            line = line.strip()\n",
    "            if not line:\n",
    "                if words:\n",
    "                    sentences.append(words)\n",
    "                    words = []\n",
    "            else:\n",
    "                parts = line.split()\n",
    "                if len(parts) >= 1:\n",
    "                    words.append(parts[0])\n",
    "        if words:\n",
    "            sentences.append(words)\n",
    "    return sentences"
   ]
  },
  {
   "cell_type": "markdown",
   "id": "69d0d098",
   "metadata": {},
   "source": [
    "## Evaluation\n",
    "This function computes the model's tagging accuracy."
   ]
  },
  {
   "cell_type": "code",
   "execution_count": 36,
   "id": "d5c6cfba",
   "metadata": {},
   "outputs": [],
   "source": [
    "# Evaluate model by checking next word predictions\n",
    "def evaluate(model, test_sentences):\n",
    "    total = 0\n",
    "    correct = 0\n",
    "    for sentence in test_sentences:\n",
    "        tokens = ['<s>', '<s>'] + sentence + ['</s>']\n",
    "        for i in range(2, len(tokens)):\n",
    "            context = [tokens[i - 2], tokens[i - 1]]\n",
    "            prediction = model.predict_next(context)\n",
    "            if prediction == tokens[i]:\n",
    "                correct += 1\n",
    "            total += 1\n",
    "    return correct / total if total > 0 else 0"
   ]
  },
  {
   "cell_type": "markdown",
   "id": "1d8188b6",
   "metadata": {},
   "source": [
    "## Main Execution\n",
    "Train the HMM, evaluate its performance, and test a sample sentence."
   ]
  },
  {
   "cell_type": "code",
   "execution_count": 37,
   "id": "0883443a",
   "metadata": {},
   "outputs": [],
   "source": [
    "def main():\n",
    "    # Load training data\n",
    "    sentences = load_conll2003_file(\"conll2003/eng.train\")\n",
    "\n",
    "    # Split 80/20\n",
    "    split_idx = int(0.8 * len(sentences))\n",
    "    train_sentences = sentences[:split_idx]\n",
    "    test_sentences = sentences[split_idx:]\n",
    "\n",
    "    # Train and evaluate\n",
    "    model = TrigramLanguageModel()\n",
    "    model.train(train_sentences)\n",
    "\n",
    "    accuracy = evaluate(model, test_sentences)\n",
    "    print(f\"Model Accuracy: {accuracy:.2%}\")\n",
    "\n",
    "    print(\"\\nGenerated Sentence:\", ' '.join(model.generate_sentence()))\n",
    "\n",
    "    # Predict next words from a sample sentence\n",
    "    test_sentence = [\"Manila\", \"is\", \"the\", \"capital\", \"of\", \"the\", \"Philippines\"]\n",
    "    print(\"\\nFriend's Test Sentence:\", test_sentence)\n",
    "    print(\"Predicted Next Words:\")\n",
    "    tokens = ['<s>', '<s>'] + test_sentence\n",
    "    for i in range(2, len(tokens)):\n",
    "        context = [tokens[i - 2], tokens[i - 1]]\n",
    "        prediction = model.predict_next(context)\n",
    "        print(f\"{context} -> {prediction}\")"
   ]
  },
  {
   "cell_type": "code",
   "execution_count": 38,
   "id": "6fcce6fc",
   "metadata": {},
   "outputs": [
    {
     "name": "stdout",
     "output_type": "stream",
     "text": [
      "Model Accuracy: 12.66%\n",
      "\n",
      "Generated Sentence: -DOCSTART-\n",
      "\n",
      "Friend's Test Sentence: ['Manila', 'is', 'the', 'capital', 'of', 'the', 'Philippines']\n",
      "Predicted Next Words:\n",
      "['<s>', '<s>'] -> -DOCSTART-\n",
      "['<s>', 'Manila'] -> international\n",
      "['Manila', 'is'] -> <unk>\n",
      "['is', 'the'] -> first\n",
      "['the', 'capital'] -> .\n",
      "['capital', 'of'] -> Etruria\n",
      "['of', 'the'] -> season\n"
     ]
    }
   ],
   "source": [
    "if __name__ == \"__main__\":\n",
    "    main()"
   ]
  }
 ],
 "metadata": {
  "kernelspec": {
   "display_name": "Python 3",
   "language": "python",
   "name": "python3"
  },
  "language_info": {
   "codemirror_mode": {
    "name": "ipython",
    "version": 3
   },
   "file_extension": ".py",
   "mimetype": "text/x-python",
   "name": "python",
   "nbconvert_exporter": "python",
   "pygments_lexer": "ipython3",
   "version": "3.13.3"
  }
 },
 "nbformat": 4,
 "nbformat_minor": 5
}
