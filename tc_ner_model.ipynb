{
 "cells": [
  {
   "cell_type": "markdown",
   "id": "a13c4024",
   "metadata": {},
   "source": [
    "# tc_ner_model"
   ]
  },
  {
   "cell_type": "markdown",
   "id": "f63156ce",
   "metadata": {},
   "source": [
    "## Imports"
   ]
  },
  {
   "cell_type": "code",
   "execution_count": 21,
   "id": "5b63362e",
   "metadata": {},
   "outputs": [],
   "source": [
    "import math\n",
    "import random\n",
    "import pandas as pd\n",
    "from collections import defaultdict\n"
   ]
  },
  {
   "cell_type": "markdown",
   "id": "aaa88498",
   "metadata": {},
   "source": [
    "## Hidden Markov Model Class\n",
    "This class encapsulates the entire functionality of the HMM."
   ]
  },
  {
   "cell_type": "code",
   "execution_count": 22,
   "id": "271de0ad",
   "metadata": {},
   "outputs": [],
   "source": [
    "class TrigramLanguageModel:\n",
    "    def __init__(self, smoothing=1e-5):\n",
    "        self.trigram_counts = defaultdict(lambda: defaultdict(int))\n",
    "        self.bigram_counts = defaultdict(int)\n",
    "        self.vocab = set()\n",
    "        self.smoothing = smoothing\n",
    "\n",
    "    def train(self, sentences):\n",
    "        for sentence in sentences:\n",
    "            tokens = ['<s>', '<s>'] + sentence + ['</s>']\n",
    "            self.vocab.update(tokens)\n",
    "            for i in range(2, len(tokens)):\n",
    "                bigram = (tokens[i - 2], tokens[i - 1])\n",
    "                trigram = tokens[i]\n",
    "                self.bigram_counts[bigram] += 1\n",
    "                self.trigram_counts[bigram][trigram] += 1\n",
    "\n",
    "    def predict_next(self, prev_two):\n",
    "        candidates = self.trigram_counts.get(tuple(prev_two), {})\n",
    "        if not candidates:\n",
    "            return random.choice(list(self.vocab))\n",
    "        total = self.bigram_counts[tuple(prev_two)] + self.smoothing * len(self.vocab)\n",
    "        probs = {word: (count + self.smoothing) / total for word, count in candidates.items()}\n",
    "        return max(probs, key=probs.get)\n",
    "\n",
    "    def generate_sentence(self, max_len=15):\n",
    "        sentence = ['<s>', '<s>']\n",
    "        for _ in range(max_len):\n",
    "            next_word = self.predict_next(sentence[-2:])\n",
    "            if next_word == '</s>':\n",
    "                break\n",
    "            sentence.append(next_word)\n",
    "        return sentence[2:]\n"
   ]
  },
  {
   "cell_type": "markdown",
   "id": "4670ccbc",
   "metadata": {},
   "source": [
    "## Data Loading and Preprocessing\n",
    "This function loads and parses a CSV-formatted NER dataset."
   ]
  },
  {
   "cell_type": "code",
   "execution_count": 28,
   "id": "1495dba3",
   "metadata": {},
   "outputs": [],
   "source": [
    "\n",
    "def load_data(filepath):\n",
    "    df = pd.read_csv(\"ner.csv\",encoding='ISO-8859-1')\n",
    "    sentences = df['Sentence'].apply(str.split).tolist()\n",
    "    return sentences\n"
   ]
  },
  {
   "cell_type": "markdown",
   "id": "69d0d098",
   "metadata": {},
   "source": [
    "## Evaluation\n",
    "This function computes the model's tagging accuracy."
   ]
  },
  {
   "cell_type": "code",
   "execution_count": 24,
   "id": "d5c6cfba",
   "metadata": {},
   "outputs": [],
   "source": [
    "\n",
    "def evaluate(model, test_sentences):\n",
    "    correct = 0\n",
    "    total = 0\n",
    "    for sentence in test_sentences:\n",
    "        tokens = ['<s>', '<s>'] + sentence + ['</s>']\n",
    "        for i in range(2, len(tokens)):\n",
    "            prediction = model.predict_next([tokens[i - 2], tokens[i - 1]])\n",
    "            if prediction == tokens[i]:\n",
    "                correct += 1\n",
    "            total += 1\n",
    "    return correct / total\n",
    "\n"
   ]
  },
  {
   "cell_type": "markdown",
   "id": "1d8188b6",
   "metadata": {},
   "source": [
    "## Main Execution\n",
    "Train the HMM, evaluate its performance, and test a sample sentence."
   ]
  },
  {
   "cell_type": "code",
   "execution_count": null,
   "id": "0883443a",
   "metadata": {},
   "outputs": [],
   "source": [
    "def main():\n",
    "    sentences = load_data(\"ner.csv\")\n",
    "    split_idx = int(0.8 * len(sentences))\n",
    "    train_sentences = sentences[:split_idx]\n",
    "    test_sentences = sentences[split_idx:]\n",
    "\n",
    "    model = TrigramLanguageModel()\n",
    "    model.train(train_sentences)\n",
    "\n",
    "    accuracy = evaluate(model, test_sentences)\n",
    "    print(f\"Model Accuracy: {accuracy:.2%}\")\n",
    "\n",
    "    print(\"\\nGenerated Sentence:\", ' '.join(model.generate_sentence()))\n",
    "\n",
    "    # Friend's test sentence\n",
    "    test_sentence = [\"Manila\", \"is\", \"the\", \"capital\", \"of\", \"the\", \"Philippines\"]\n",
    "    print(\"\\nFriend's Test Sentence:\", test_sentence)\n",
    "    print(\"Predicted Next Words:\")\n",
    "\n",
    "    # Use your model to predict next word after each bigram\n",
    "    tokens = ['<s>', '<s>'] + test_sentence\n",
    "    for i in range(2, len(tokens)):\n",
    "        context = [tokens[i - 2], tokens[i - 1]]\n",
    "        prediction = model.predict_next(context)\n",
    "        print(f\"{context} -> {prediction}\")"
   ]
  },
  {
   "cell_type": "code",
   "execution_count": 29,
   "id": "6fcce6fc",
   "metadata": {},
   "outputs": [
    {
     "ename": "KeyError",
     "evalue": "'Sentence'",
     "output_type": "error",
     "traceback": [
      "\u001b[1;31m---------------------------------------------------------------------------\u001b[0m",
      "\u001b[1;31mKeyError\u001b[0m                                  Traceback (most recent call last)",
      "File \u001b[1;32mc:\\Users\\n3des\\AppData\\Local\\Programs\\Python\\Python313\\Lib\\site-packages\\pandas\\core\\indexes\\base.py:3805\u001b[0m, in \u001b[0;36mIndex.get_loc\u001b[1;34m(self, key)\u001b[0m\n\u001b[0;32m   3804\u001b[0m \u001b[38;5;28;01mtry\u001b[39;00m:\n\u001b[1;32m-> 3805\u001b[0m     \u001b[38;5;28;01mreturn\u001b[39;00m \u001b[38;5;28;43mself\u001b[39;49m\u001b[38;5;241;43m.\u001b[39;49m\u001b[43m_engine\u001b[49m\u001b[38;5;241;43m.\u001b[39;49m\u001b[43mget_loc\u001b[49m\u001b[43m(\u001b[49m\u001b[43mcasted_key\u001b[49m\u001b[43m)\u001b[49m\n\u001b[0;32m   3806\u001b[0m \u001b[38;5;28;01mexcept\u001b[39;00m \u001b[38;5;167;01mKeyError\u001b[39;00m \u001b[38;5;28;01mas\u001b[39;00m err:\n",
      "File \u001b[1;32mindex.pyx:167\u001b[0m, in \u001b[0;36mpandas._libs.index.IndexEngine.get_loc\u001b[1;34m()\u001b[0m\n",
      "File \u001b[1;32mindex.pyx:196\u001b[0m, in \u001b[0;36mpandas._libs.index.IndexEngine.get_loc\u001b[1;34m()\u001b[0m\n",
      "File \u001b[1;32mpandas\\\\_libs\\\\hashtable_class_helper.pxi:7081\u001b[0m, in \u001b[0;36mpandas._libs.hashtable.PyObjectHashTable.get_item\u001b[1;34m()\u001b[0m\n",
      "File \u001b[1;32mpandas\\\\_libs\\\\hashtable_class_helper.pxi:7089\u001b[0m, in \u001b[0;36mpandas._libs.hashtable.PyObjectHashTable.get_item\u001b[1;34m()\u001b[0m\n",
      "\u001b[1;31mKeyError\u001b[0m: 'Sentence'",
      "\nThe above exception was the direct cause of the following exception:\n",
      "\u001b[1;31mKeyError\u001b[0m                                  Traceback (most recent call last)",
      "Cell \u001b[1;32mIn[29], line 1\u001b[0m\n\u001b[1;32m----> 1\u001b[0m \u001b[43mmain\u001b[49m\u001b[43m(\u001b[49m\u001b[43m)\u001b[49m\n",
      "Cell \u001b[1;32mIn[25], line 2\u001b[0m, in \u001b[0;36mmain\u001b[1;34m()\u001b[0m\n\u001b[0;32m      1\u001b[0m \u001b[38;5;28;01mdef\u001b[39;00m \u001b[38;5;21mmain\u001b[39m():\n\u001b[1;32m----> 2\u001b[0m     sentences \u001b[38;5;241m=\u001b[39m \u001b[43mload_data\u001b[49m\u001b[43m(\u001b[49m\u001b[38;5;124;43m\"\u001b[39;49m\u001b[38;5;124;43mner.csv\u001b[39;49m\u001b[38;5;124;43m\"\u001b[39;49m\u001b[43m)\u001b[49m\n\u001b[0;32m      3\u001b[0m     split_idx \u001b[38;5;241m=\u001b[39m \u001b[38;5;28mint\u001b[39m(\u001b[38;5;241m0.8\u001b[39m \u001b[38;5;241m*\u001b[39m \u001b[38;5;28mlen\u001b[39m(sentences))\n\u001b[0;32m      4\u001b[0m     train_sentences \u001b[38;5;241m=\u001b[39m sentences[:split_idx]\n",
      "Cell \u001b[1;32mIn[28], line 3\u001b[0m, in \u001b[0;36mload_data\u001b[1;34m(filepath)\u001b[0m\n\u001b[0;32m      1\u001b[0m \u001b[38;5;28;01mdef\u001b[39;00m \u001b[38;5;21mload_data\u001b[39m(filepath):\n\u001b[0;32m      2\u001b[0m     df \u001b[38;5;241m=\u001b[39m pd\u001b[38;5;241m.\u001b[39mread_csv(\u001b[38;5;124m\"\u001b[39m\u001b[38;5;124mner.csv\u001b[39m\u001b[38;5;124m\"\u001b[39m,encoding\u001b[38;5;241m=\u001b[39m\u001b[38;5;124m'\u001b[39m\u001b[38;5;124mISO-8859-1\u001b[39m\u001b[38;5;124m'\u001b[39m)\n\u001b[1;32m----> 3\u001b[0m     sentences \u001b[38;5;241m=\u001b[39m \u001b[43mdf\u001b[49m\u001b[43m[\u001b[49m\u001b[38;5;124;43m'\u001b[39;49m\u001b[38;5;124;43mSentence\u001b[39;49m\u001b[38;5;124;43m'\u001b[39;49m\u001b[43m]\u001b[49m\u001b[38;5;241m.\u001b[39mapply(\u001b[38;5;28mstr\u001b[39m\u001b[38;5;241m.\u001b[39msplit)\u001b[38;5;241m.\u001b[39mtolist()\n\u001b[0;32m      4\u001b[0m     \u001b[38;5;28;01mreturn\u001b[39;00m sentences\n",
      "File \u001b[1;32mc:\\Users\\n3des\\AppData\\Local\\Programs\\Python\\Python313\\Lib\\site-packages\\pandas\\core\\frame.py:4102\u001b[0m, in \u001b[0;36mDataFrame.__getitem__\u001b[1;34m(self, key)\u001b[0m\n\u001b[0;32m   4100\u001b[0m \u001b[38;5;28;01mif\u001b[39;00m \u001b[38;5;28mself\u001b[39m\u001b[38;5;241m.\u001b[39mcolumns\u001b[38;5;241m.\u001b[39mnlevels \u001b[38;5;241m>\u001b[39m \u001b[38;5;241m1\u001b[39m:\n\u001b[0;32m   4101\u001b[0m     \u001b[38;5;28;01mreturn\u001b[39;00m \u001b[38;5;28mself\u001b[39m\u001b[38;5;241m.\u001b[39m_getitem_multilevel(key)\n\u001b[1;32m-> 4102\u001b[0m indexer \u001b[38;5;241m=\u001b[39m \u001b[38;5;28;43mself\u001b[39;49m\u001b[38;5;241;43m.\u001b[39;49m\u001b[43mcolumns\u001b[49m\u001b[38;5;241;43m.\u001b[39;49m\u001b[43mget_loc\u001b[49m\u001b[43m(\u001b[49m\u001b[43mkey\u001b[49m\u001b[43m)\u001b[49m\n\u001b[0;32m   4103\u001b[0m \u001b[38;5;28;01mif\u001b[39;00m is_integer(indexer):\n\u001b[0;32m   4104\u001b[0m     indexer \u001b[38;5;241m=\u001b[39m [indexer]\n",
      "File \u001b[1;32mc:\\Users\\n3des\\AppData\\Local\\Programs\\Python\\Python313\\Lib\\site-packages\\pandas\\core\\indexes\\base.py:3812\u001b[0m, in \u001b[0;36mIndex.get_loc\u001b[1;34m(self, key)\u001b[0m\n\u001b[0;32m   3807\u001b[0m     \u001b[38;5;28;01mif\u001b[39;00m \u001b[38;5;28misinstance\u001b[39m(casted_key, \u001b[38;5;28mslice\u001b[39m) \u001b[38;5;129;01mor\u001b[39;00m (\n\u001b[0;32m   3808\u001b[0m         \u001b[38;5;28misinstance\u001b[39m(casted_key, abc\u001b[38;5;241m.\u001b[39mIterable)\n\u001b[0;32m   3809\u001b[0m         \u001b[38;5;129;01mand\u001b[39;00m \u001b[38;5;28many\u001b[39m(\u001b[38;5;28misinstance\u001b[39m(x, \u001b[38;5;28mslice\u001b[39m) \u001b[38;5;28;01mfor\u001b[39;00m x \u001b[38;5;129;01min\u001b[39;00m casted_key)\n\u001b[0;32m   3810\u001b[0m     ):\n\u001b[0;32m   3811\u001b[0m         \u001b[38;5;28;01mraise\u001b[39;00m InvalidIndexError(key)\n\u001b[1;32m-> 3812\u001b[0m     \u001b[38;5;28;01mraise\u001b[39;00m \u001b[38;5;167;01mKeyError\u001b[39;00m(key) \u001b[38;5;28;01mfrom\u001b[39;00m \u001b[38;5;21;01merr\u001b[39;00m\n\u001b[0;32m   3813\u001b[0m \u001b[38;5;28;01mexcept\u001b[39;00m \u001b[38;5;167;01mTypeError\u001b[39;00m:\n\u001b[0;32m   3814\u001b[0m     \u001b[38;5;66;03m# If we have a listlike key, _check_indexing_error will raise\u001b[39;00m\n\u001b[0;32m   3815\u001b[0m     \u001b[38;5;66;03m#  InvalidIndexError. Otherwise we fall through and re-raise\u001b[39;00m\n\u001b[0;32m   3816\u001b[0m     \u001b[38;5;66;03m#  the TypeError.\u001b[39;00m\n\u001b[0;32m   3817\u001b[0m     \u001b[38;5;28mself\u001b[39m\u001b[38;5;241m.\u001b[39m_check_indexing_error(key)\n",
      "\u001b[1;31mKeyError\u001b[0m: 'Sentence'"
     ]
    }
   ],
   "source": [
    "main()"
   ]
  }
 ],
 "metadata": {
  "kernelspec": {
   "display_name": "Python 3",
   "language": "python",
   "name": "python3"
  },
  "language_info": {
   "codemirror_mode": {
    "name": "ipython",
    "version": 3
   },
   "file_extension": ".py",
   "mimetype": "text/x-python",
   "name": "python",
   "nbconvert_exporter": "python",
   "pygments_lexer": "ipython3",
   "version": "3.13.3"
  }
 },
 "nbformat": 4,
 "nbformat_minor": 5
}
